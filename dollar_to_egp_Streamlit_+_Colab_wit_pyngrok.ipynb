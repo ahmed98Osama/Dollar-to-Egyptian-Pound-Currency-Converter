{
  "nbformat": 4,
  "nbformat_minor": 0,
  "metadata": {
    "colab": {
      "provenance": [],
      "include_colab_link": true
    },
    "kernelspec": {
      "name": "python3",
      "display_name": "Python 3"
    },
    "language_info": {
      "name": "python"
    }
  },
  "cells": [
    {
      "cell_type": "markdown",
      "metadata": {
        "id": "view-in-github",
        "colab_type": "text"
      },
      "source": [
        "<a href=\"https://colab.research.google.com/github/ahmed98Osama/Dollar-to-Egyptian-Pound-Currency-Converter/blob/main/dollar_to_egp_Streamlit_%2B_Colab_wit_pyngrok.ipynb\" target=\"_parent\"><img src=\"https://colab.research.google.com/assets/colab-badge.svg\" alt=\"Open In Colab\"/></a>"
      ]
    },
    {
      "cell_type": "code",
      "metadata": {
        "id": "gs5d-jOeuvqZ"
      },
      "source": [
        "!pip install jedi>=0.10\n",
        "!pip install -q streamlit"
      ],
      "execution_count": 22,
      "outputs": []
    },
    {
      "cell_type": "markdown",
      "metadata": {
        "id": "HWNKZgLbSLsi"
      },
      "source": [
        "Write the cell python code into an app.py file"
      ]
    },
    {
      "cell_type": "code",
      "source": [
        "%%writefile app.py\n",
        "import streamlit as st\n",
        "import requests\n",
        "from bs4 import BeautifulSoup\n",
        "import datetime\n",
        "\n",
        "\n",
        "def update_price(conversion_type, amount):\n",
        "    # Get the page content\n",
        "    page = requests.get(\"https://www.currency.me.uk/convert/usd/egp\")\n",
        "    html = BeautifulSoup(page.content, \"html.parser\")\n",
        "\n",
        "    # Get the answer element from the page\n",
        "    answer_element = html.select_one(\"input[id='answer']\")\n",
        "    answer_value = float(answer_element[\"value\"])\n",
        "\n",
        "    round_amount = \"{:,}\".format(round(amount, 2))\n",
        "\n",
        "    # Convert the amount based on the conversion type\n",
        "    if conversion_type == \"usd_to_egp\":\n",
        "        converted_amount = amount * answer_value\n",
        "        round_converted_amount = \"{:,}\".format(round(converted_amount, 2))\n",
        "\n",
        "        round_answer_value = \"{:,}\".format(round(answer_value, 2))\n",
        "        st.write(\n",
        "            f\"<span style='color: green'>{1.00} USD</span> is equal to <span style='color: orange'>{round_answer_value} EGP</span>\",\n",
        "            unsafe_allow_html=True,\n",
        "        )\n",
        "        st.write(\n",
        "            f\"<h2 style='color: green'>{round_amount} USD</h2> is equal to <h2 style='color: orange'>{round_converted_amount} EGP</h2>\",\n",
        "            unsafe_allow_html=True,\n",
        "        )\n",
        "    elif conversion_type == \"egp_to_usd\":\n",
        "        converted_amount = amount / answer_value\n",
        "        round_converted_amount = \"{:,}\".format(round(converted_amount, 2))\n",
        "\n",
        "        round_answer_value = \"{:,}\".format(round(1 / answer_value, 2))\n",
        "        st.write(\n",
        "            f\"<span style='color: orange'>{1.00} EGP</span> is equal to <span style='color: green'>{round_answer_value} USD</span>\",\n",
        "            unsafe_allow_html=True,\n",
        "        )\n",
        "        st.write(\n",
        "            f\"<h2 style='color: orange'>{round_amount} EGP</h2> is equal to <h2 style='color: green'>{round_converted_amount} USD</h2>\",\n",
        "            unsafe_allow_html=True,\n",
        "        )\n",
        "    else:\n",
        "        # Invalid conversion type\n",
        "        st.write(\"Invalid conversion type\")\n",
        "\n",
        "\n",
        "# Write the header text\n",
        "st.write(\n",
        "    \"<h1> <span style='color: green'> USD</span> to <span style='color:orange'>EGP</span> Currency Converter </h1>\",\n",
        "    unsafe_allow_html=True,\n",
        ")\n",
        "\n",
        "# Get the current date and time in Egypt\n",
        "now = datetime.datetime.now(datetime.timezone(datetime.timedelta(hours=2)))\n",
        "day = now.strftime(\"%A\")\n",
        "st.write(\n",
        "    f\"<h5>Current Date and Time in Egypt (GMT+2): {day}, {now.strftime('%Y-%m-%d %H:%M:%S')}</h5>\",\n",
        "    unsafe_allow_html=True,\n",
        ")\n",
        "\n",
        "# Get the conversion type and amount from the user\n",
        "conversion_type = st.selectbox(\n",
        "    \"Select the conversion type\", [\"usd_to_egp\", \"egp_to_usd\"], key=\"conversion_type\"\n",
        ")\n",
        "amount = st.number_input(\"Enter the amount you want to convert\", key=\"amount\")\n",
        "\n",
        "# If the user clicks the convert button, show a spinner and convert the amount\n",
        "if st.button(\"Convert\"):\n",
        "    with st.spinner(\"Converting...\"):\n",
        "        update_price(conversion_type, amount)\n",
        "\n",
        "# Write the source information and credits\n",
        "st.write(\n",
        "    \"<h5>This currency converter uses data from <a href='https://www.currency.me.uk/convert/usd/egp' target='_blank'>currency.me.uk</a>.</h5>\",\n",
        "    unsafe_allow_html=True,\n",
        ")\n",
        "st.write(\n",
        "    \"<h5>Created by  <a href='https://github.com/ahmed98Osama' style='color: skyblue' target='_blank'>Ahmed Osama</a> and assisted by <a href='https://www.linkedin.com/in/abdelrahmanmagdy2011/' style='color: red' target='_blank'>Abdelrahman Magdy</a>, <span style='color: #1b8266'>ChatGPT</span>.</h5>\",\n",
        "    unsafe_allow_html=True,\n",
        ")\n"
      ],
      "metadata": {
        "colab": {
          "base_uri": "https://localhost:8080/"
        },
        "id": "BX1_d2rFnPz3",
        "outputId": "206b3ced-3b6f-4660-c276-5ec228fe6298"
      },
      "execution_count": 85,
      "outputs": [
        {
          "output_type": "stream",
          "name": "stdout",
          "text": [
            "Overwriting app.py\n"
          ]
        }
      ]
    },
    {
      "cell_type": "code",
      "metadata": {
        "id": "DaUIzq8Nu4QZ",
        "outputId": "17353c10-ebd7-4a6a-ab4e-662835849d05",
        "colab": {
          "base_uri": "https://localhost:8080/"
        }
      },
      "source": [
        " ! pip install pyngrok "
      ],
      "execution_count": 25,
      "outputs": [
        {
          "output_type": "stream",
          "name": "stdout",
          "text": [
            "Looking in indexes: https://pypi.org/simple, https://us-python.pkg.dev/colab-wheels/public/simple/\n",
            "Requirement already satisfied: pyngrok in /usr/local/lib/python3.8/dist-packages (5.2.1)\n",
            "Requirement already satisfied: PyYAML in /usr/local/lib/python3.8/dist-packages (from pyngrok) (6.0)\n"
          ]
        }
      ]
    },
    {
      "cell_type": "code",
      "metadata": {
        "id": "Kkz6oohKvd4R"
      },
      "source": [
        "from pyngrok import ngrok"
      ],
      "execution_count": 26,
      "outputs": []
    },
    {
      "cell_type": "code",
      "source": [
        "ngrok.set_auth_token(\"enter your token\") #ngrok.com"
      ],
      "metadata": {
        "id": "By4KbSE657N_"
      },
      "execution_count": 27,
      "outputs": []
    },
    {
      "cell_type": "code",
      "metadata": {
        "id": "U0saJbOCvaNq",
        "outputId": "e7055f21-c7e6-4936-82d6-3e945872b9bf",
        "colab": {
          "base_uri": "https://localhost:8080/"
        }
      },
      "source": [
        "!nohup streamlit run app.py --server.port 80 &\n",
        "url = ngrok.connect(port = '80')\n",
        "print(url)"
      ],
      "execution_count": 28,
      "outputs": [
        {
          "output_type": "stream",
          "name": "stdout",
          "text": [
            "nohup: appending output to 'nohup.out'\n",
            "NgrokTunnel: \"http://7d5d-34-125-94-60.ngrok.io\" -> \"http://localhost:80\"\n"
          ]
        }
      ]
    },
    {
      "cell_type": "code",
      "source": [
        "from pyngrok import ngrok\n",
        "\n",
        "tunnels = ngrok.get_tunnels()\n",
        "tunnels\n",
        "\n",
        "# try:\n",
        "#     # Block until CTRL-C or some other terminating event\n",
        "#     ngrok_process.proc.wait()\n",
        "# except KeyboardInterrupt:\n",
        "#     print(\" Shutting down server.\")\n",
        "\n",
        "#     ngrok.kill()"
      ],
      "metadata": {
        "id": "_DTLQgOa6H6B",
        "outputId": "7b506db7-4756-428d-f9e3-a4cd7996b4eb",
        "colab": {
          "base_uri": "https://localhost:8080/"
        }
      },
      "execution_count": 29,
      "outputs": [
        {
          "output_type": "execute_result",
          "data": {
            "text/plain": [
              "[<NgrokTunnel: \"https://7d5d-34-125-94-60.ngrok.io\" -> \"http://localhost:80\">,\n",
              " <NgrokTunnel: \"http://7d5d-34-125-94-60.ngrok.io\" -> \"http://localhost:80\">]"
            ]
          },
          "metadata": {},
          "execution_count": 29
        }
      ]
    },
    {
      "cell_type": "markdown",
      "metadata": {
        "id": "fnP63sVHxKT2"
      },
      "source": [
        "Run streamlit using `localtunnel` \n",
        "\n",
        "npm installation would take some time for the first time"
      ]
    },
    {
      "cell_type": "code",
      "metadata": {
        "id": "654JzyOJxRnJ"
      },
      "source": [],
      "execution_count": 29,
      "outputs": []
    }
  ]
}
