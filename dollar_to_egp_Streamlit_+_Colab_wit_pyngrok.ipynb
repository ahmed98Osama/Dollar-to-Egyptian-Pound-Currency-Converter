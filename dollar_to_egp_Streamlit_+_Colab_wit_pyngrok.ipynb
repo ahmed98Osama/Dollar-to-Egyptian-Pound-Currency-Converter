{
  "nbformat": 4,
  "nbformat_minor": 0,
  "metadata": {
    "colab": {
      "provenance": [],
      "include_colab_link": true
    },
    "kernelspec": {
      "name": "python3",
      "display_name": "Python 3"
    },
    "language_info": {
      "name": "python"
    }
  },
  "cells": [
    {
      "cell_type": "markdown",
      "metadata": {
        "id": "view-in-github",
        "colab_type": "text"
      },
      "source": [
        "<a href=\"https://colab.research.google.com/github/ahmed98Osama/Dollar-to-Egyptian-Pound-Currency-Converter/blob/main/dollar_to_egp_Streamlit_%2B_Colab_wit_pyngrok.ipynb\" target=\"_parent\"><img src=\"https://colab.research.google.com/assets/colab-badge.svg\" alt=\"Open In Colab\"/></a>"
      ]
    },
    {
      "cell_type": "code",
      "metadata": {
        "id": "gs5d-jOeuvqZ",
        "colab": {
          "base_uri": "https://localhost:8080/"
        },
        "outputId": "b2aec6b8-5ec0-4e33-bf1f-8472f6a4ebcd"
      },
      "source": [
        "!pip install jedi>=0.10\n",
        "!pip install -q streamlit"
      ],
      "execution_count": null,
      "outputs": [
        {
          "output_type": "stream",
          "name": "stdout",
          "text": [
            "\u001b[2K     \u001b[90m━━━━━━━━━━━━━━━━━━━━━━━━━━━━━━━━━━━━━━━━\u001b[0m \u001b[32m9.3/9.3 MB\u001b[0m \u001b[31m29.5 MB/s\u001b[0m eta \u001b[36m0:00:00\u001b[0m\n",
            "\u001b[2K     \u001b[90m━━━━━━━━━━━━━━━━━━━━━━━━━━━━━━━━━━━━━━━\u001b[0m \u001b[32m164.8/164.8 KB\u001b[0m \u001b[31m3.5 MB/s\u001b[0m eta \u001b[36m0:00:00\u001b[0m\n",
            "\u001b[2K     \u001b[90m━━━━━━━━━━━━━━━━━━━━━━━━━━━━━━━━━━━━━━━━\u001b[0m \u001b[32m4.7/4.7 MB\u001b[0m \u001b[31m62.8 MB/s\u001b[0m eta \u001b[36m0:00:00\u001b[0m\n",
            "\u001b[?25h  Preparing metadata (setup.py) ... \u001b[?25l\u001b[?25hdone\n",
            "\u001b[2K     \u001b[90m━━━━━━━━━━━━━━━━━━━━━━━━━━━━━━━━━━━━━━━━\u001b[0m \u001b[32m79.0/79.0 KB\u001b[0m \u001b[31m4.9 MB/s\u001b[0m eta \u001b[36m0:00:00\u001b[0m\n",
            "\u001b[2K     \u001b[90m━━━━━━━━━━━━━━━━━━━━━━━━━━━━━━━━━━━━━━━\u001b[0m \u001b[32m184.0/184.0 KB\u001b[0m \u001b[31m9.5 MB/s\u001b[0m eta \u001b[36m0:00:00\u001b[0m\n",
            "\u001b[2K     \u001b[90m━━━━━━━━━━━━━━━━━━━━━━━━━━━━━━━━━━━━━━\u001b[0m \u001b[32m239.0/239.0 KB\u001b[0m \u001b[31m11.2 MB/s\u001b[0m eta \u001b[36m0:00:00\u001b[0m\n",
            "\u001b[2K     \u001b[90m━━━━━━━━━━━━━━━━━━━━━━━━━━━━━━━━━━━━━━━━\u001b[0m \u001b[32m62.7/62.7 KB\u001b[0m \u001b[31m3.9 MB/s\u001b[0m eta \u001b[36m0:00:00\u001b[0m\n",
            "\u001b[2K     \u001b[90m━━━━━━━━━━━━━━━━━━━━━━━━━━━━━━━━━━━━━━━━\u001b[0m \u001b[32m84.5/84.5 KB\u001b[0m \u001b[31m4.2 MB/s\u001b[0m eta \u001b[36m0:00:00\u001b[0m\n",
            "\u001b[2K     \u001b[90m━━━━━━━━━━━━━━━━━━━━━━━━━━━━━━━━━━━━━━━━\u001b[0m \u001b[32m1.1/1.1 MB\u001b[0m \u001b[31m29.8 MB/s\u001b[0m eta \u001b[36m0:00:00\u001b[0m\n",
            "\u001b[?25h  Building wheel for validators (setup.py) ... \u001b[?25l\u001b[?25hdone\n"
          ]
        }
      ]
    },
    {
      "cell_type": "markdown",
      "metadata": {
        "id": "HWNKZgLbSLsi"
      },
      "source": [
        "Write the cell python code into an app.py file"
      ]
    },
    {
      "cell_type": "code",
      "source": [
        "%%writefile app.py\n",
        "import streamlit as st\n",
        "import requests\n",
        "from bs4 import BeautifulSoup\n",
        "import datetime\n",
        "\n",
        "# st.set_page_config(page_keyboard_intercept=True)\n",
        "st.set_page_config(\n",
        "    page_title=\"Dollar to Pound\", page_icon=\"🤑\", initial_sidebar_state=\"collapsed\"\n",
        ")\n",
        "\n",
        "\n",
        "def update_price(conversion_type, amount):\n",
        "    # Get the page content\n",
        "    page = requests.get(\"https://www.currency.me.uk/convert/usd/egp\")\n",
        "    html = BeautifulSoup(page.content, \"html.parser\")\n",
        "\n",
        "    # Get the answer element from the page\n",
        "    answer_element = html.select_one(\"input[id='answer']\")\n",
        "    answer_value = float(answer_element[\"value\"])\n",
        "\n",
        "    round_amount = \"{:,}\".format(round(amount, 2))\n",
        "\n",
        "    # Convert the amount based on the conversion type\n",
        "    if conversion_type == \"(usd_to_egp ) United States Dollar to Egyptian Pound\":\n",
        "        converted_amount = amount * answer_value\n",
        "        round_converted_amount = \"{:,}\".format(round(converted_amount, 2))\n",
        "\n",
        "        round_answer_value = \"{:,}\".format(round(answer_value, 2))\n",
        "        st.write(\n",
        "            f\"<span style='color: green'>{1.00} USD</span> is equal to <span style='color: orange'>{round_answer_value} EGP</span>\",\n",
        "            unsafe_allow_html=True,\n",
        "        )\n",
        "        st.write(\n",
        "            f\"<h2 style='color: green'>{round_amount} USD</h2> is equal to <h2 style='color: orange'>{round_converted_amount} EGP</h2>\",\n",
        "            unsafe_allow_html=True,\n",
        "        )\n",
        "    elif conversion_type == \"(egp_to_usd) Egyptian Pound to United States Dollar\":\n",
        "        converted_amount = amount / answer_value\n",
        "        round_converted_amount = \"{:,}\".format(round(converted_amount, 2))\n",
        "\n",
        "        round_answer_value = \"{:,}\".format(round(1 / answer_value, 2))\n",
        "        st.write(\n",
        "            f\"<span style='color: orange'>{1.00} EGP</span> is equal to <span style='color: green'>{round_answer_value} USD</span>\",\n",
        "            unsafe_allow_html=True,\n",
        "        )\n",
        "        st.write(\n",
        "            f\"<h2 style='color: orange'>{round_amount} EGP</h2> is equal to <h2 style='color: green'>{round_converted_amount} USD</h2>\",\n",
        "            unsafe_allow_html=True,\n",
        "        )\n",
        "    else:\n",
        "        # Invalid conversion type\n",
        "        st.write(\"Invalid conversion type\")\n",
        "\n",
        "\n",
        "# Write the header text\n",
        "st.write(\n",
        "    \"<h1> <span style='color: green'> USD</span> to <span style='color:orange'>EGP</span> Currency Converter </h1>\",\n",
        "    unsafe_allow_html=True,\n",
        ")\n",
        "\n",
        "# Get the current date and time in Egypt\n",
        "now = datetime.datetime.now(datetime.timezone(datetime.timedelta(hours=2)))\n",
        "day = now.strftime(\"%A\")\n",
        "st.write(\n",
        "    f\"<h5>Current Date and Time in Egypt (GMT+2): {day}, {now.strftime('%Y-%m-%d %H:%M:%S')}</h5>\",\n",
        "    unsafe_allow_html=True,\n",
        ")\n",
        "\n",
        "\n",
        "# Get the conversion type and amount from the user\n",
        "conversion_type = st.selectbox(\n",
        "    \"Select the conversion type\",\n",
        "    [\n",
        "        \"(usd_to_egp ) United States Dollar to Egyptian Pound\",\n",
        "        \"(egp_to_usd) Egyptian Pound to United States Dollar\",\n",
        "    ],\n",
        "    key=\"conversion_type\",\n",
        ")\n",
        "amount = st.number_input(\n",
        "    \"Enter the amount you want to convert\", key=\"amount\", step=0.1, min_value=0.0\n",
        ")\n",
        "\n",
        "# If the user clicks the convert button, show a spinner and convert the amount\n",
        "if st.button(\"Convert\"):\n",
        "    with st.spinner(\"Converting...\"):\n",
        "        update_price(conversion_type, amount)\n",
        "\n",
        "# Write the source information and credits\n",
        "st.write(\n",
        "    \"<h6>This currency converter uses data from <a href='https://www.currency.me.uk/convert/usd/egp' target='_blank'>currency.me.uk</a>.</h6>\",\n",
        "    unsafe_allow_html=True,\n",
        ")\n",
        "st.write(\n",
        "    \"<h6>Created by  <a href='https://github.com/ahmed98Osama' style='color: skyblue' target='_blank'>Ahmed Osama</a>, inspierd by <a href='https://www.linkedin.com/in/abdelrahmanmagdy2011/' style='color: red' target='_blank'>Abdelrahman Magdy</a>,  and assisted by <span style='color: #1b8266'>ChatGPT</span>.</h6>\",\n",
        "    unsafe_allow_html=True,\n",
        ")\n",
        "\n"
      ],
      "metadata": {
        "colab": {
          "base_uri": "https://localhost:8080/"
        },
        "id": "BX1_d2rFnPz3",
        "outputId": "7887a673-ffce-4b8a-f659-5b0401a3f0de"
      },
      "execution_count": null,
      "outputs": [
        {
          "output_type": "stream",
          "name": "stdout",
          "text": [
            "Writing app.py\n"
          ]
        }
      ]
    },
    {
      "cell_type": "code",
      "metadata": {
        "id": "DaUIzq8Nu4QZ",
        "outputId": "aad05814-6fc8-4a6f-9ee0-af00fd63b6ef",
        "colab": {
          "base_uri": "https://localhost:8080/"
        }
      },
      "source": [
        " ! pip install pyngrok "
      ],
      "execution_count": null,
      "outputs": [
        {
          "output_type": "stream",
          "name": "stdout",
          "text": [
            "Looking in indexes: https://pypi.org/simple, https://us-python.pkg.dev/colab-wheels/public/simple/\n",
            "Collecting pyngrok\n",
            "  Downloading pyngrok-5.2.1.tar.gz (761 kB)\n",
            "\u001b[2K     \u001b[90m━━━━━━━━━━━━━━━━━━━━━━━━━━━━━━━━━━━━━━\u001b[0m \u001b[32m761.3/761.3 KB\u001b[0m \u001b[31m26.5 MB/s\u001b[0m eta \u001b[36m0:00:00\u001b[0m\n",
            "\u001b[?25h  Preparing metadata (setup.py) ... \u001b[?25l\u001b[?25hdone\n",
            "Requirement already satisfied: PyYAML in /usr/local/lib/python3.8/dist-packages (from pyngrok) (6.0)\n",
            "Building wheels for collected packages: pyngrok\n",
            "  Building wheel for pyngrok (setup.py) ... \u001b[?25l\u001b[?25hdone\n",
            "  Created wheel for pyngrok: filename=pyngrok-5.2.1-py3-none-any.whl size=19792 sha256=07e0efbff72fe84b6d4f2f5c14abae697d3c09579ad16b5cc2cd07e2e06afe80\n",
            "  Stored in directory: /root/.cache/pip/wheels/5d/f2/70/526da675d32f17577ec47ac4c663084efe39d47c826b6c3bb1\n",
            "Successfully built pyngrok\n",
            "Installing collected packages: pyngrok\n",
            "Successfully installed pyngrok-5.2.1\n"
          ]
        }
      ]
    },
    {
      "cell_type": "code",
      "metadata": {
        "id": "Kkz6oohKvd4R"
      },
      "source": [
        "from pyngrok import ngrok"
      ],
      "execution_count": null,
      "outputs": []
    },
    {
      "cell_type": "code",
      "source": [
        "ngrok.set_auth_token(\"2DGuJGYGshFG6l1eTCq9MBk3uRj_3NvGYT4SerJiG1r8K5GfR\") #https://dashboard.ngrok.com/get-started/your-authtoken"
      ],
      "metadata": {
        "id": "By4KbSE657N_"
      },
      "execution_count": 15,
      "outputs": []
    },
    {
      "cell_type": "code",
      "metadata": {
        "id": "U0saJbOCvaNq",
        "outputId": "24839db6-e6f2-41b5-c9d1-c93beed1a2e9",
        "colab": {
          "base_uri": "https://localhost:8080/"
        }
      },
      "source": [
        "!nohup streamlit run app.py --server.port 80 &\n",
        "url = ngrok.connect(port = '80')\n",
        "print(url)"
      ],
      "execution_count": 16,
      "outputs": [
        {
          "output_type": "stream",
          "name": "stdout",
          "text": [
            "nohup: appending output to 'nohup.out'\n",
            "NgrokTunnel: \"http://cc25-34-90-183-5.ngrok.io\" -> \"http://localhost:80\"\n"
          ]
        }
      ]
    },
    {
      "cell_type": "code",
      "source": [
        "# from pyngrok import ngrok\n",
        "\n",
        "# tunnels = ngrok.get_tunnels()\n",
        "# tunnels\n",
        "\n",
        "# try:\n",
        "#     # Block until CTRL-C or some other terminating event\n",
        "#     ngrok_process.proc.wait()\n",
        "# except KeyboardInterrupt:\n",
        "#     print(\" Shutting down server.\")\n",
        "\n",
        "#     ngrok.kill()"
      ],
      "metadata": {
        "id": "_DTLQgOa6H6B"
      },
      "execution_count": null,
      "outputs": []
    },
    {
      "cell_type": "markdown",
      "metadata": {
        "id": "fnP63sVHxKT2"
      },
      "source": [
        "Run streamlit using `localtunnel` \n",
        "\n",
        "npm installation would take some time for the first time"
      ]
    },
    {
      "cell_type": "code",
      "metadata": {
        "id": "654JzyOJxRnJ",
        "colab": {
          "base_uri": "https://localhost:8080/"
        },
        "outputId": "60dd3da8-4f56-44ed-dea1-0786f8346e04"
      },
      "source": [
        "import sys\n",
        "print(sys.version)"
      ],
      "execution_count": null,
      "outputs": [
        {
          "output_type": "stream",
          "name": "stdout",
          "text": [
            "3.8.10 (default, Nov 14 2022, 12:59:47) \n",
            "[GCC 9.4.0]\n"
          ]
        }
      ]
    },
    {
      "cell_type": "code",
      "source": [
        "!pip install pipreqs\n",
        "!pipreqs  --force"
      ],
      "metadata": {
        "colab": {
          "base_uri": "https://localhost:8080/"
        },
        "id": "oe1DXgd-J6S8",
        "outputId": "9aa3c0fe-7f02-419c-8bb7-d28b7c66e907"
      },
      "execution_count": null,
      "outputs": [
        {
          "output_type": "stream",
          "name": "stdout",
          "text": [
            "Looking in indexes: https://pypi.org/simple, https://us-python.pkg.dev/colab-wheels/public/simple/\n",
            "Requirement already satisfied: pipreqs in /usr/local/lib/python3.8/dist-packages (0.4.11)\n",
            "Requirement already satisfied: yarg in /usr/local/lib/python3.8/dist-packages (from pipreqs) (0.1.9)\n",
            "Requirement already satisfied: docopt in /usr/local/lib/python3.8/dist-packages (from pipreqs) (0.6.2)\n",
            "Requirement already satisfied: requests in /usr/local/lib/python3.8/dist-packages (from yarg->pipreqs) (2.25.1)\n",
            "Requirement already satisfied: chardet<5,>=3.0.2 in /usr/local/lib/python3.8/dist-packages (from requests->yarg->pipreqs) (4.0.0)\n",
            "Requirement already satisfied: idna<3,>=2.5 in /usr/local/lib/python3.8/dist-packages (from requests->yarg->pipreqs) (2.10)\n",
            "Requirement already satisfied: certifi>=2017.4.17 in /usr/local/lib/python3.8/dist-packages (from requests->yarg->pipreqs) (2022.12.7)\n",
            "Requirement already satisfied: urllib3<1.27,>=1.21.1 in /usr/local/lib/python3.8/dist-packages (from requests->yarg->pipreqs) (1.24.3)\n",
            "INFO: Successfully saved requirements file in /content/requirements.txt\n",
            "beautifulsoup4==4.11.2\n",
            "requests==2.25.1\n",
            "streamlit==1.17.0\n",
            "\n"
          ]
        }
      ]
    },
    {
      "cell_type": "code",
      "source": [
        "filename = \"requirements.txt\"\n",
        "\n",
        "with open(filename, \"r\") as file:\n",
        "    contents = file.read()\n",
        "    print(contents)"
      ],
      "metadata": {
        "colab": {
          "base_uri": "https://localhost:8080/"
        },
        "id": "EW4w9EvLnMO6",
        "outputId": "af2cc652-9fb5-4f46-911c-cfd55b6825e9"
      },
      "execution_count": null,
      "outputs": [
        {
          "output_type": "stream",
          "name": "stdout",
          "text": [
            "beautifulsoup4==4.11.2\n",
            "requests==2.25.1\n",
            "streamlit==1.17.0\n",
            "\n"
          ]
        }
      ]
    }
  ]
}